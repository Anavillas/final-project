{
 "cells": [
  {
   "cell_type": "markdown",
   "id": "811ca1ff",
   "metadata": {},
   "source": [
    "# Informações Gerais sobre os DataSets"
   ]
  },
  {
   "cell_type": "markdown",
   "id": "9255feb6",
   "metadata": {},
   "source": [
    "### Tabela de Clientes\n",
    "---\n",
    "1. Necessário adicionar uma coluna de \"idade\", para facilitar consultas.\n",
    "2. Necessário realizar a limpeza dos dados retirando os seguintes prefixos dos nomes: 'Dr.', 'Dra.', 'Sr.', 'Sra', 'Srta.'\n",
    "3. Necessário retirar espaços em brancos e ao final do nome para precaução.\n",
    "\n",
    ">Informações sobre a tabela de clientes abaixo:"
   ]
  },
  {
   "cell_type": "markdown",
   "id": "b6898f60",
   "metadata": {},
   "source": [
    "| #  | Coluna            | Valores Não Nulos | Tipo    |\n",
    "|-----|-------------------|-------------------|---------|\n",
    "| 0   | id_cliente        | 5000              | object  |\n",
    "| 1   | nome              | 5000              | object  |\n",
    "| 2   | data_nascimento   | 5000              | object  |\n",
    "| 3   | genero            | 5000              | object  |\n",
    "| 4   | cidade_residencia | 5000              | object  |\n",
    "| 5   | estado_residencia | 5000              | object  |\n",
    "| 6   | profissao         | 5000              | object  |\n",
    "| 7   | renda_mensal      | 5000              | float64 |\n",
    "| 8   | nivel_educacional | 5000              | object  |\n",
    "| 9   | qtd_dependentes   | 5000              | int64   |\n",
    "| 10  | data_cadastro     | 5000              | object  |\n",
    "\n",
    "Total de Linhas: 5000\n",
    " | Total de Colunas: 11\n"
   ]
  },
  {
   "cell_type": "markdown",
   "id": "e779b51c",
   "metadata": {},
   "source": [
    "### Tabela de Contratos\n",
    "---\n",
    "1. Necessário criar a coluna \"periodo_contrato\". Sendo categorizada: mensal, trimestral, semestral, anual e bianual. \n",
    "\n",
    ">Informações sobre a tabela de contratos abaixo:"
   ]
  },
  {
   "cell_type": "markdown",
   "id": "0076d2ad",
   "metadata": {},
   "source": [
    "| #  | Coluna                        | Valores Não Nulos | Tipo     |\n",
    "|----|-------------------------------|--------------------|----------|\n",
    "| 0  | id_contrato                   | 12000              | object   |\n",
    "| 1  | id_cliente                    | 12000              | object   |\n",
    "| 2  | tipo_seguro                   | 12000              | object   |\n",
    "| 3  | data_inicio                   | 12000              | object   |\n",
    "| 4  | data_fim                      | 12000              | object   |\n",
    "| 5  | valor_premio_mensal           | 12000              | float64  |\n",
    "| 6  | satisfacao_ultima_avaliacao   | 12000              | object   |\n",
    "| 7  | canal_venda                   | 12000              | object   |\n",
    "| 8  | renovado_automaticamente      | 12000              | bool     |\n",
    "\n",
    "\n",
    "**Total de Linhas:** 12.000  \n",
    "**Total de colunas:** 9"
   ]
  },
  {
   "cell_type": "markdown",
   "id": "dfd58ca8",
   "metadata": {},
   "source": [
    "### Tabela de Cancelamentos\n",
    "---\n",
    "1. Para identicar de quem são os cancelamentos, é necessário vincular com a tabela de contratos através de uma chave estrangeira.\n",
    "\n",
    ">Informações da tabela cancelamento abaixo:"
   ]
  },
  {
   "cell_type": "markdown",
   "id": "2e9a25df",
   "metadata": {},
   "source": [
    "| #  | Coluna                              | Valores Não Nulos | Tipo   |\n",
    "|----|-------------------------------------|--------------------|--------|\n",
    "| 0  | id_contrato                         | 2520               | object |\n",
    "| 1  | data_cancelamento                   | 2520               | object |\n",
    "| 2  | motivo_cancelamento                 | 2520               | object |\n",
    "| 3  | canal_cancelamento                  | 2520               | object |\n",
    "| 4  | avaliacao_experiencia_cancelamento  | 2520               | object |\n",
    "\n",
    "**Total de Linhas:** 2.520  \n",
    "**Total de colunas:** 5"
   ]
  }
 ],
 "metadata": {
  "language_info": {
   "name": "python"
  }
 },
 "nbformat": 4,
 "nbformat_minor": 5
}
