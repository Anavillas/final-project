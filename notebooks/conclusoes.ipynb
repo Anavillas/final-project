{
 "cells": [
  {
   "cell_type": "markdown",
   "id": "baaf4ba1",
   "metadata": {},
   "source": [
    "# Conclusões\n",
    "### Este documento tem como objetivo evidênciar as conclusões chegadas a partir de hipóteses e resultados de consultas.\n",
    "---"
   ]
  },
  {
   "cell_type": "markdown",
   "id": "e4abf5ee",
   "metadata": {},
   "source": []
  }
 ],
 "metadata": {
  "language_info": {
   "name": "python"
  }
 },
 "nbformat": 4,
 "nbformat_minor": 5
}
