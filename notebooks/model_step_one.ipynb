{
 "cells": [
  {
   "cell_type": "markdown",
   "id": "b08ebd78",
   "metadata": {},
   "source": [
    "### ✅ 1. Definir o problema\n",
    "\n",
    "* Entenda o tipo de problema: **classificação**, **regressão**, **agrupamento**, etc.\n",
    "* **Exemplo**: \"Quero prever se um cliente vai cancelar o serviço\" → Classificação binária.\n",
    "\n"
   ]
  },
  {
   "cell_type": "code",
   "execution_count": null,
   "id": "2cf014e3",
   "metadata": {
    "vscode": {
     "languageId": "plaintext"
    }
   },
   "outputs": [],
   "source": []
  },
  {
   "cell_type": "markdown",
   "id": "76f818ea",
   "metadata": {},
   "source": [
    "### ✅ 2. Coletar os dados\n",
    "\n",
    "* Obtenha os dados via:\n",
    "\n",
    "  * APIs\n",
    "  * Banco de dados (SQL)\n",
    "  * Arquivos CSV, Excel, JSON\n",
    "  * Web scraping\n",
    "* Ferramentas úteis: `pandas`, `sqlalchemy`, `requests`\n",
    "\n"
   ]
  },
  {
   "cell_type": "code",
   "execution_count": null,
   "id": "dfc09e17",
   "metadata": {
    "vscode": {
     "languageId": "plaintext"
    }
   },
   "outputs": [],
   "source": []
  },
  {
   "cell_type": "markdown",
   "id": "57768aa7",
   "metadata": {},
   "source": [
    "### ✅ 3. Explorar e entender os dados (EDA - Análise Exploratória)\n",
    "\n",
    "* Verifique estatísticas básicas:\n",
    "\n",
    "  ```python\n",
    "  df.info()\n",
    "  df.describe()\n",
    "  ```\n",
    "* Visualize os dados:\n",
    "\n",
    "  ```python\n",
    "  import seaborn as sns\n",
    "  sns.pairplot(df)\n",
    "  ```\n",
    "* Identifique:\n",
    "\n",
    "  * Valores ausentes\n",
    "  * Outliers\n",
    "  * Correlações\n",
    "\n"
   ]
  },
  {
   "cell_type": "code",
   "execution_count": null,
   "id": "344b175f",
   "metadata": {
    "vscode": {
     "languageId": "plaintext"
    }
   },
   "outputs": [],
   "source": []
  },
  {
   "cell_type": "markdown",
   "id": "cc65d838",
   "metadata": {},
   "source": [
    "### ✅ 4. Pré-processar os dados\n",
    "\n",
    "* **Limpeza**: remover valores nulos, duplicados, inconsistências.\n",
    "* **Codificação de categorias**:\n",
    "\n",
    "  ```python\n",
    "  pd.get_dummies(df, columns=['categoria'])\n",
    "  ```\n",
    "* **Normalização/padronização**:\n",
    "\n",
    "  ```python\n",
    "  from sklearn.preprocessing import StandardScaler\n",
    "  scaler = StandardScaler()\n",
    "  X_scaled = scaler.fit_transform(X)\n",
    "  ```\n",
    "* **Divisão treino/teste**:\n",
    "\n",
    "  ```python\n",
    "  from sklearn.model_selection import train_test_split\n",
    "  X_train, X_test, y_train, y_test = train_test_split(X, y, test_size=0.2)\n",
    "  ```\n",
    "\n"
   ]
  },
  {
   "cell_type": "code",
   "execution_count": null,
   "id": "78b1730a",
   "metadata": {
    "vscode": {
     "languageId": "plaintext"
    }
   },
   "outputs": [],
   "source": []
  },
  {
   "cell_type": "markdown",
   "id": "29b728ce",
   "metadata": {},
   "source": [
    "### ✅ 5. Escolher o algoritmo\n",
    "\n",
    "* **Classificação**: `LogisticRegression`, `RandomForestClassifier`, `SVC`, `XGBoost`\n",
    "* **Regressão**: `LinearRegression`, `RandomForestRegressor`\n",
    "* **Clustering**: `KMeans`, `DBSCAN`\n"
   ]
  },
  {
   "cell_type": "code",
   "execution_count": null,
   "id": "165c7abb",
   "metadata": {
    "vscode": {
     "languageId": "plaintext"
    }
   },
   "outputs": [],
   "source": []
  },
  {
   "cell_type": "markdown",
   "id": "f30c99a8",
   "metadata": {},
   "source": [
    "### ✅ 6. Treinar o modelo\n",
    "\n",
    "```python\n",
    "from sklearn.linear_model import LogisticRegression\n",
    "model = LogisticRegression()\n",
    "model.fit(X_train, y_train)\n",
    "```\n"
   ]
  },
  {
   "cell_type": "code",
   "execution_count": null,
   "id": "d69d2a6d",
   "metadata": {
    "vscode": {
     "languageId": "plaintext"
    }
   },
   "outputs": [],
   "source": []
  },
  {
   "cell_type": "markdown",
   "id": "c90a7c39",
   "metadata": {},
   "source": [
    "### ✅ 7. Avaliar o modelo\n",
    "\n",
    "* Métricas para **classificação**:\n",
    "\n",
    "  * `accuracy`, `precision`, `recall`, `f1-score`, `confusion_matrix`\n",
    "* Métricas para **regressão**:\n",
    "\n",
    "  * `mean_squared_error`, `r2_score`\n",
    "\n",
    "```python\n",
    "from sklearn.metrics import classification_report\n",
    "print(classification_report(y_test, model.predict(X_test)))\n",
    "```\n"
   ]
  },
  {
   "cell_type": "code",
   "execution_count": null,
   "id": "6775f1d0",
   "metadata": {
    "vscode": {
     "languageId": "plaintext"
    }
   },
   "outputs": [],
   "source": []
  },
  {
   "cell_type": "markdown",
   "id": "cac41413",
   "metadata": {},
   "source": [
    "\n",
    "### ✅ 8. (Opcional) Ajustar hiperparâmetros\n",
    "\n",
    "* Use `GridSearchCV` ou `RandomizedSearchCV`:\n",
    "\n",
    "```python\n",
    "from sklearn.model_selection import GridSearchCV\n",
    "grid = GridSearchCV(model, param_grid, cv=5)\n",
    "grid.fit(X_train, y_train)\n",
    "```\n",
    "\n"
   ]
  },
  {
   "cell_type": "code",
   "execution_count": null,
   "id": "4da0c167",
   "metadata": {
    "vscode": {
     "languageId": "plaintext"
    }
   },
   "outputs": [],
   "source": []
  }
 ],
 "metadata": {
  "language_info": {
   "name": "python"
  }
 },
 "nbformat": 4,
 "nbformat_minor": 5
}
