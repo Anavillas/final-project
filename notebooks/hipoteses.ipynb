{
 "cells": [
  {
   "cell_type": "code",
   "execution_count": null,
   "id": "10601874",
   "metadata": {},
   "outputs": [],
   "source": [
    "import sqlite3\n",
    "import pandas as pd\n",
    "\n",
    "# Conectar ao banco de dados SQLite\n",
    "conn = sqlite3.connect(r'C:\\Users\\Usuario\\OneDrive\\Documentos\\final-project\\final-project\\seguros.db')\n",
    "\n",
    "# Carregar as tabelas como DataFrames do pandas\n",
    "df_clientes = pd.read_sql_query(\"SELECT * FROM clientes\", conn)\n",
    "df_contratos = pd.read_sql_query(\"SELECT * FROM contratos\", conn)\n",
    "df_cancelamentos = pd.read_sql_query(\"SELECT * FROM cancelamentos\", conn)"
   ]
  },
  {
   "cell_type": "markdown",
   "id": "3bf9b368",
   "metadata": {},
   "source": [
    "## 1.Perfil Demográfico do cliente"
   ]
  },
  {
   "cell_type": "markdown",
   "id": "56687854",
   "metadata": {},
   "source": [
    "1.1 Como está divido nosso publico?\n",
    "\n",
    "1.2 Qual possui mais cancelamentos?"
   ]
  },
  {
   "cell_type": "markdown",
   "id": "a5df76fc",
   "metadata": {},
   "source": []
  }
 ],
 "metadata": {
  "kernelspec": {
   "display_name": "Python 3",
   "language": "python",
   "name": "python3"
  },
  "language_info": {
   "codemirror_mode": {
    "name": "ipython",
    "version": 3
   },
   "file_extension": ".py",
   "mimetype": "text/x-python",
   "name": "python",
   "nbconvert_exporter": "python",
   "pygments_lexer": "ipython3",
   "version": "3.13.3"
  }
 },
 "nbformat": 4,
 "nbformat_minor": 5
}
