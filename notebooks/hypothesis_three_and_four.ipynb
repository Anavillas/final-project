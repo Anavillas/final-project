{
 "cells": [
  {
   "cell_type": "code",
   "execution_count": null,
   "metadata": {},
   "outputs": [
    {
     "data": {
      "text/plain": [
       "5000"
      ]
     },
     "execution_count": 20,
     "metadata": {},
     "output_type": "execute_result"
    }
   ],
   "source": [
    "import sqlite3\n",
    "import pandas as pd\n",
    "import matplotlib.pyplot as plt\n",
    "\n",
    "# Carregar CSVs como DataFrames pandas\n",
    "df_dict = pd.read_csv(r'C:\\Users\\Aluno\\Documents\\GitHub\\final-project\\data\\P18_dicionario_dados.csv', encoding='utf-8', sep=',')\n",
    "df_cancel = pd.read_csv(r'C:\\Users\\Aluno\\Documents\\GitHub\\final-project\\data\\P18_cancelamentos.csv', encoding='utf-8', sep=',')\n",
    "df_contratos = pd.read_csv(r'C:\\Users\\Aluno\\Documents\\GitHub\\final-project\\data\\P18_contratos.csv', encoding='utf-8', sep=',')\n",
    "df_clientes = pd.read_csv(r'C:\\Users\\Aluno\\Documents\\GitHub\\final-project\\data\\P18_clientes.csv', encoding='utf-8', sep=',')\n",
    "\n",
    "# Criar banco SQLite em memória (ou em disco se preferir salvar como arquivo)\n",
    "conn = sqlite3.connect(\":memory:\")  # ou 'meubanco.db' se quiser salvar em disco\n",
    "\n",
    "# Registrar os DataFrames como tabelas SQL dentro do SQLite\n",
    "df_cancel.to_sql(\"cancelamentos\", conn, index=False, if_exists=\"replace\")\n",
    "df_contratos.to_sql(\"contratos\", conn, index=False, if_exists=\"replace\")\n",
    "df_clientes.to_sql(\"clientes\", conn, index=False, if_exists=\"replace\")"
   ]
  },
  {
   "cell_type": "code",
   "execution_count": 3,
   "metadata": {},
   "outputs": [
    {
     "name": "stdout",
     "output_type": "stream",
     "text": [
      "c:\\ProgramData\\anaconda3\\python.exe\n"
     ]
    }
   ],
   "source": [
    "import sys\n",
    "print(sys.executable)"
   ]
  },
  {
   "cell_type": "markdown",
   "metadata": {},
   "source": [
    "1. Quantos planos de seguro temos?"
   ]
  },
  {
   "cell_type": "code",
   "execution_count": 4,
   "metadata": {},
   "outputs": [
    {
     "data": {
      "text/plain": [
       "tipo_seguro\n",
       "Auto           2429\n",
       "Empresarial    2423\n",
       "Vida           2406\n",
       "Saúde          2390\n",
       "Residencial    2352\n",
       "Name: count, dtype: int64"
      ]
     },
     "execution_count": 4,
     "metadata": {},
     "output_type": "execute_result"
    }
   ],
   "source": [
    "df_contratos['tipo_seguro'].nunique()\n",
    "df_contratos['tipo_seguro'].value_counts()"
   ]
  },
  {
   "cell_type": "markdown",
   "metadata": {},
   "source": [
    "2. Quais planos possuem mais cancelamento?"
   ]
  },
  {
   "cell_type": "code",
   "execution_count": 5,
   "metadata": {},
   "outputs": [
    {
     "data": {
      "text/plain": [
       "tipo_seguro\n",
       "Saúde          528\n",
       "Empresarial    522\n",
       "Residencial    512\n",
       "Vida           489\n",
       "Auto           469\n",
       "Name: count, dtype: int64"
      ]
     },
     "execution_count": 5,
     "metadata": {},
     "output_type": "execute_result"
    }
   ],
   "source": [
    "# Unir Contratos com Cancelamentos\n",
    "df_cancelados = df_contratos.merge(df_cancel, on='id_contrato', how='inner')\n",
    "\n",
    "# Contar Cancelamentos por Tipo de Seguro\n",
    "df_cancelados['tipo_seguro'].value_counts()"
   ]
  },
  {
   "cell_type": "markdown",
   "metadata": {},
   "source": [
    "3. Qual o tempo de contrato médio dos clientes?"
   ]
  },
  {
   "cell_type": "code",
   "execution_count": 6,
   "metadata": {},
   "outputs": [
    {
     "data": {
      "text/plain": [
       "424.2079166666667"
      ]
     },
     "execution_count": 6,
     "metadata": {},
     "output_type": "execute_result"
    }
   ],
   "source": [
    "# Converter Datas\n",
    "df_contratos['data_inicio'] = pd.to_datetime(df_contratos['data_inicio'])\n",
    "df_contratos['data_fim'] = pd.to_datetime(df_contratos['data_fim'])\n",
    "\n",
    "# Criar Coluna com Duração em Dias\n",
    "df_contratos['duracao_contrato'] = (df_contratos['data_fim'] - df_contratos['data_inicio']).dt.days\n",
    "\n",
    "# Média Geral\n",
    "df_contratos['duracao_contrato'].mean()"
   ]
  },
  {
   "cell_type": "markdown",
   "metadata": {},
   "source": [
    "4. Qual o tempo médio dos contratos cancelados?"
   ]
  },
  {
   "cell_type": "code",
   "execution_count": 7,
   "metadata": {},
   "outputs": [
    {
     "data": {
      "text/plain": [
       "415.67857142857144"
      ]
     },
     "execution_count": 7,
     "metadata": {},
     "output_type": "execute_result"
    }
   ],
   "source": [
    "df_cancelados['data_inicio'] = pd.to_datetime(df_cancelados['data_inicio'])\n",
    "df_cancelados['data_fim'] = pd.to_datetime(df_cancelados['data_fim'])\n",
    "\n",
    "df_cancelados['duracao_contrato'] = (df_cancelados['data_fim'] - df_cancelados['data_inicio']).dt.days\n",
    "df_cancelados['duracao_contrato'].mean()"
   ]
  },
  {
   "cell_type": "markdown",
   "metadata": {},
   "source": [
    "5. Houve troca de plano antes do cancelamento?"
   ]
  },
  {
   "cell_type": "code",
   "execution_count": 8,
   "metadata": {},
   "outputs": [
    {
     "name": "stdout",
     "output_type": "stream",
     "text": [
      "Cancelaram após trocar de plano: 2184\n"
     ]
    }
   ],
   "source": [
    "# Ver Clientes com Mais de um Tipo de Seguro\n",
    "df_contratos.sort_values(by=['id_cliente', 'data_inicio'], inplace=True)\n",
    "df_troca = df_contratos.groupby('id_cliente')['tipo_seguro'].nunique()\n",
    "\n",
    "# Clientes que Já Tiveram Mais de um Tipo\n",
    "trocaram = df_troca[df_troca > 1].index\n",
    "\n",
    "# Quantos Desses Também Cancelaram\n",
    "cancelaram_e_trocaram = df_cancelados[df_cancelados['id_cliente'].isin(trocaram)]\n",
    "print(\"Cancelaram após trocar de plano:\", len(cancelaram_e_trocaram))"
   ]
  },
  {
   "cell_type": "markdown",
   "metadata": {},
   "source": [
    "6. Clientes que renovaram contrato ao menos uma vez cancelam menos?"
   ]
  },
  {
   "cell_type": "code",
   "execution_count": 9,
   "metadata": {},
   "outputs": [
    {
     "name": "stdout",
     "output_type": "stream",
     "text": [
      "Taxa de cancelamento com renovação: 0.20939464108501488\n",
      "Taxa sem renovação: 0.2106147127981189\n"
     ]
    }
   ],
   "source": [
    "# Clientes que Renovaram\n",
    "renovaram = df_contratos[df_contratos['renovado_automaticamente'] == True]\n",
    "nao_renovaram = df_contratos[df_contratos['renovado_automaticamente'] == False]\n",
    "\n",
    "# Com Cancelamento\n",
    "renovaram_cancelaram = renovaram[renovaram['id_contrato'].isin(df_cancel['id_contrato'])]\n",
    "nao_renovaram_cancelaram = nao_renovaram[nao_renovaram['id_contrato'].isin(df_cancel['id_contrato'])]\n",
    "\n",
    "# Taxas\n",
    "print(\"Taxa de cancelamento com renovação:\", len(renovaram_cancelaram) / len(renovaram))\n",
    "print(\"Taxa sem renovação:\", len(nao_renovaram_cancelaram) / len(nao_renovaram))"
   ]
  },
  {
   "cell_type": "markdown",
   "metadata": {},
   "source": [
    "7. Canal de venda influencia na fidelidade?"
   ]
  },
  {
   "cell_type": "code",
   "execution_count": 10,
   "metadata": {},
   "outputs": [
    {
     "data": {
      "text/plain": [
       "canal_venda\n",
       "Agência Física    0.211807\n",
       "App               0.211277\n",
       "Corretor          0.209721\n",
       "Site              0.207192\n",
       "Name: cancelado, dtype: float64"
      ]
     },
     "execution_count": 10,
     "metadata": {},
     "output_type": "execute_result"
    }
   ],
   "source": [
    "df_contratos['cancelado'] = df_contratos['id_contrato'].isin(df_cancel['id_contrato'])\n",
    "\n",
    "df_contratos.groupby('canal_venda')['cancelado'].mean().sort_values(ascending=False)"
   ]
  },
  {
   "cell_type": "markdown",
   "metadata": {},
   "source": [
    "8. Avaliação da experiência no cancelamento x motivo de cancelamento"
   ]
  },
  {
   "cell_type": "code",
   "execution_count": 30,
   "metadata": {},
   "outputs": [
    {
     "name": "stdout",
     "output_type": "stream",
     "text": [
      "      motivo_cancelamento  media_avaliacao\n",
      "0              Preço alto             1.99\n",
      "1   Problemas no sinistro             2.01\n",
      "2  Cobertura insuficiente             2.02\n",
      "3        Atendimento ruim             2.05\n",
      "4   Mudança de seguradora             2.05\n"
     ]
    }
   ],
   "source": [
    "query = \"\"\"\n",
    "SELECT \n",
    "  motivo_cancelamento,\n",
    "  ROUND(AVG(\n",
    "    CASE \n",
    "      WHEN avaliacao_experiencia_cancelamento = 'Ruim' THEN 1\n",
    "      WHEN avaliacao_experiencia_cancelamento = 'Neutra' THEN 2\n",
    "      WHEN avaliacao_experiencia_cancelamento = 'Boa' THEN 3\n",
    "      ELSE NULL\n",
    "    END\n",
    "  ), 2) AS media_avaliacao\n",
    "FROM cancelamentos\n",
    "GROUP BY motivo_cancelamento\n",
    "ORDER BY media_avaliacao ASC\n",
    "\"\"\"\n",
    "df_avaliacao_motivo = pd.read_sql_query(query, conn)\n",
    "print(df_avaliacao_motivo)"
   ]
  },
  {
   "cell_type": "markdown",
   "metadata": {},
   "source": [
    "9.  Clientes com baixa satisfação e baixa renda"
   ]
  },
  {
   "cell_type": "code",
   "execution_count": 44,
   "metadata": {},
   "outputs": [
    {
     "name": "stdout",
     "output_type": "stream",
     "text": [
      "    id_cliente  renda_mensal satisfacao_ultima_avaliacao  \\\n",
      "0       C01330       5506.98                       Baixa   \n",
      "1       C00994       8500.11                       Baixa   \n",
      "2       C04962       3191.25                       Baixa   \n",
      "3       C02323       8192.83                       Baixa   \n",
      "4       C03199       4977.14                       Baixa   \n",
      "..         ...           ...                         ...   \n",
      "768     C04700       4903.29                       Média   \n",
      "769     C03009       6720.83                       Baixa   \n",
      "770     C01688       3605.98                       Média   \n",
      "771     C04662       8998.38                       Baixa   \n",
      "772     C00312       3167.47                       Baixa   \n",
      "\n",
      "    avaliacao_experiencia_cancelamento data_cancelamento  \n",
      "0                                 Ruim        2024-11-04  \n",
      "1                                 Ruim        2025-08-31  \n",
      "2                               Neutra        2023-11-12  \n",
      "3                               Neutra        2025-10-16  \n",
      "4                               Neutra        2023-03-07  \n",
      "..                                 ...               ...  \n",
      "768                               Ruim        2024-07-30  \n",
      "769                             Neutra        2024-06-03  \n",
      "770                               Ruim        2025-09-21  \n",
      "771                               Ruim        2024-05-05  \n",
      "772                                Boa        2023-11-27  \n",
      "\n",
      "[773 rows x 5 columns]\n"
     ]
    }
   ],
   "source": [
    "query = \"\"\"\n",
    "SELECT \n",
    "  c.id_cliente,\n",
    "  c.renda_mensal,\n",
    "  co.satisfacao_ultima_avaliacao,\n",
    "  ca.avaliacao_experiencia_cancelamento,\n",
    "  ca.data_cancelamento\n",
    "FROM cancelamentos ca\n",
    "JOIN contratos co ON ca.id_contrato = co.id_contrato\n",
    "JOIN clientes c ON co.id_cliente = c.id_cliente\n",
    "WHERE \n",
    "  (\n",
    "    CASE \n",
    "      WHEN co.satisfacao_ultima_avaliacao = 'Baixa' THEN 1\n",
    "      WHEN co.satisfacao_ultima_avaliacao = 'Média' THEN 2\n",
    "      WHEN co.satisfacao_ultima_avaliacao = 'Alta' THEN 3\n",
    "      ELSE NULL\n",
    "    END\n",
    "  ) <= 2\n",
    "  AND c.renda_mensal < 10000\n",
    "\"\"\"\n",
    "df_baixa_renda_satisfacao = pd.read_sql_query(query, conn)\n",
    "print(df_baixa_renda_satisfacao)"
   ]
  },
  {
   "cell_type": "markdown",
   "metadata": {},
   "source": [
    "10. Cancelamento por tipo de plano e número de dependentes (Vida e Saúde)"
   ]
  },
  {
   "cell_type": "code",
   "execution_count": 45,
   "metadata": {},
   "outputs": [
    {
     "name": "stdout",
     "output_type": "stream",
     "text": [
      "   tipo_seguro  qtd_dependentes  total_cancelamentos\n",
      "0        Saúde                0                  122\n",
      "1        Saúde                1                  178\n",
      "2        Saúde                2                  141\n",
      "3        Saúde                3                   57\n",
      "4        Saúde                4                   22\n",
      "5        Saúde                5                    6\n",
      "6        Saúde                6                    1\n",
      "7        Saúde                7                    1\n",
      "8         Vida                0                  122\n",
      "9         Vida                1                  158\n",
      "10        Vida                2                  134\n",
      "11        Vida                3                   44\n",
      "12        Vida                4                   25\n",
      "13        Vida                5                    6\n"
     ]
    }
   ],
   "source": [
    "query = \"\"\"\n",
    "SELECT \n",
    "  co.tipo_seguro,\n",
    "  c.qtd_dependentes,\n",
    "  COUNT(*) AS total_cancelamentos\n",
    "FROM cancelamentos ca\n",
    "JOIN contratos co ON ca.id_contrato = co.id_contrato\n",
    "JOIN clientes c ON co.id_cliente = c.id_cliente\n",
    "WHERE co.tipo_seguro IN ('Vida', 'Saúde')\n",
    "GROUP BY co.tipo_seguro, c.qtd_dependentes\n",
    "ORDER BY co.tipo_seguro, c.qtd_dependentes\n",
    "\"\"\"\n",
    "df_cancel_tipo_dependentes = pd.read_sql_query(query, conn)\n",
    "print(df_cancel_tipo_dependentes)"
   ]
  },
  {
   "cell_type": "markdown",
   "metadata": {},
   "source": [
    "11. Tempo de cliente na base (em anos) x cancelamento"
   ]
  },
  {
   "cell_type": "code",
   "execution_count": 47,
   "metadata": {},
   "outputs": [
    {
     "name": "stdout",
     "output_type": "stream",
     "text": [
      "   cancelou  tempo_medio_anos  qtd_clientes\n",
      "0         1              1.73          2520\n",
      "1         0              2.55          9931\n"
     ]
    }
   ],
   "source": [
    "query = \"\"\"\n",
    "WITH base_tempo AS (\n",
    "  SELECT \n",
    "    c.id_cliente,\n",
    "    c.data_cadastro,\n",
    "    ca.data_cancelamento,\n",
    "    CASE \n",
    "      WHEN ca.data_cancelamento IS NOT NULL THEN julianday(ca.data_cancelamento) - julianday(c.data_cadastro)\n",
    "      ELSE julianday('now') - julianday(c.data_cadastro)\n",
    "    END AS dias_na_base,\n",
    "    CASE \n",
    "      WHEN ca.id_contrato IS NOT NULL THEN 1\n",
    "      ELSE 0\n",
    "    END AS cancelou\n",
    "  FROM clientes c\n",
    "  LEFT JOIN contratos co ON c.id_cliente = co.id_cliente\n",
    "  LEFT JOIN cancelamentos ca ON co.id_contrato = ca.id_contrato\n",
    ")\n",
    "SELECT\n",
    "  cancelou,\n",
    "  ROUND(AVG(dias_na_base)/365, 2) AS tempo_medio_anos,\n",
    "  COUNT(*) AS qtd_clientes\n",
    "FROM base_tempo\n",
    "GROUP BY cancelou\n",
    "ORDER BY cancelou DESC\n",
    "\"\"\"\n",
    "df_tempo_cancelamento = pd.read_sql_query(query, conn)\n",
    "print(df_tempo_cancelamento)"
   ]
  },
  {
   "cell_type": "markdown",
   "metadata": {},
   "source": [
    "12. Planos com risco (baixa satisfação + sem renovação automática)"
   ]
  },
  {
   "cell_type": "code",
   "execution_count": 48,
   "metadata": {},
   "outputs": [
    {
     "name": "stdout",
     "output_type": "stream",
     "text": [
      "   tipo_seguro  qtd_planos_risco\n",
      "0  Empresarial               426\n",
      "1         Auto               412\n",
      "2         Vida               405\n",
      "3  Residencial               401\n",
      "4        Saúde               394\n"
     ]
    }
   ],
   "source": [
    "query = \"\"\"\n",
    "SELECT \n",
    "  co.tipo_seguro,\n",
    "  COUNT(*) AS qtd_planos_risco\n",
    "FROM contratos co\n",
    "WHERE co.satisfacao_ultima_avaliacao = 'Baixa'\n",
    "  AND (co.renovado_automaticamente = 'Não' OR co.renovado_automaticamente = 0 OR co.renovado_automaticamente IS NULL)\n",
    "GROUP BY co.tipo_seguro\n",
    "ORDER BY qtd_planos_risco DESC\n",
    "\"\"\"\n",
    "df_planos_risco = pd.read_sql_query(query, conn)\n",
    "print(df_planos_risco)"
   ]
  },
  {
   "cell_type": "markdown",
   "metadata": {},
   "source": [
    "13. Clientes que cancelaram pelo App: idade média e avaliação média"
   ]
  },
  {
   "cell_type": "code",
   "execution_count": 49,
   "metadata": {},
   "outputs": [
    {
     "name": "stdout",
     "output_type": "stream",
     "text": [
      "   idade_media  avaliacao_media\n",
      "0        49.61             2.01\n"
     ]
    }
   ],
   "source": [
    "query = \"\"\"\n",
    "SELECT \n",
    "  ROUND(AVG((strftime('%Y', 'now') - strftime('%Y', c.data_nascimento))), 2) AS idade_media,\n",
    "  ROUND(AVG(\n",
    "    CASE \n",
    "      WHEN ca.avaliacao_experiencia_cancelamento = 'Boa' THEN 3\n",
    "      WHEN ca.avaliacao_experiencia_cancelamento = 'Neutra' THEN 2\n",
    "      WHEN ca.avaliacao_experiencia_cancelamento = 'Ruim' THEN 1\n",
    "      ELSE NULL\n",
    "    END\n",
    "  ), 2) AS avaliacao_media\n",
    "FROM cancelamentos ca\n",
    "JOIN contratos co ON ca.id_contrato = co.id_contrato\n",
    "JOIN clientes c ON co.id_cliente = c.id_cliente\n",
    "WHERE ca.canal_cancelamento = 'App'\n",
    "\"\"\"\n",
    "df_cancel_app = pd.read_sql_query(query, conn)\n",
    "print(df_cancel_app)"
   ]
  },
  {
   "cell_type": "markdown",
   "metadata": {},
   "source": [
    "14.  Ranking proporcional de cancelamento por profissão"
   ]
  },
  {
   "cell_type": "code",
   "execution_count": 64,
   "metadata": {},
   "outputs": [
    {
     "name": "stdout",
     "output_type": "stream",
     "text": [
      "                               profissao  total  total_cancelamentos  \\\n",
      "0                      Lutador de karatê      6                    6   \n",
      "1                                   Ator      5                    5   \n",
      "2    Broker/Corretor da bolsa de valores      4                    4   \n",
      "3                         Cerimonialista      4                    4   \n",
      "4                              Figurante      4                    4   \n",
      "..                                   ...    ...                  ...   \n",
      "743       Tecnólogo em navegação fluvial      1                    0   \n",
      "744            Tecnólogo em silvicultura      1                    0   \n",
      "745             Vigilante noturno/diurno      5                    0   \n",
      "746                          Webdesigner      5                    0   \n",
      "747                   Árbitro e mediador      2                    0   \n",
      "\n",
      "     taxa_cancelamento  \n",
      "0                  1.0  \n",
      "1                  1.0  \n",
      "2                  1.0  \n",
      "3                  1.0  \n",
      "4                  1.0  \n",
      "..                 ...  \n",
      "743                0.0  \n",
      "744                0.0  \n",
      "745                0.0  \n",
      "746                0.0  \n",
      "747                0.0  \n",
      "\n",
      "[748 rows x 4 columns]\n"
     ]
    }
   ],
   "source": [
    "query = \"\"\"\n",
    "WITH total_clientes AS (\n",
    "  SELECT profissao, COUNT(*) AS total\n",
    "  FROM clientes\n",
    "  GROUP BY profissao\n",
    "),\n",
    "cancelamentos_profissao AS (\n",
    "  SELECT c.profissao, COUNT(DISTINCT co.id_cliente) AS total_cancelamentos\n",
    "  FROM cancelamentos ca\n",
    "  JOIN contratos co ON ca.id_contrato = co.id_contrato\n",
    "  JOIN clientes c ON co.id_cliente = c.id_cliente\n",
    "  GROUP BY c.profissao\n",
    ")\n",
    "SELECT\n",
    "  tc.profissao,\n",
    "  tc.total,\n",
    "  COALESCE(cp.total_cancelamentos, 0) AS total_cancelamentos,\n",
    "  ROUND(COALESCE(cp.total_cancelamentos, 0) * 1.0 / tc.total, 4) AS taxa_cancelamento\n",
    "FROM total_clientes tc\n",
    "LEFT JOIN cancelamentos_profissao cp ON tc.profissao = cp.profissao\n",
    "ORDER BY taxa_cancelamento DESC, total_cancelamentos DESC\n",
    "\"\"\"\n",
    "df_ranking_profissao = pd.read_sql_query(query, conn)\n",
    "print(df_ranking_profissao)"
   ]
  },
  {
   "cell_type": "markdown",
   "metadata": {},
   "source": [
    "15. Troca de plano durante o cancelamento"
   ]
  },
  {
   "cell_type": "code",
   "execution_count": 62,
   "metadata": {},
   "outputs": [
    {
     "name": "stdout",
     "output_type": "stream",
     "text": [
      "   canal_venda  tempo_medio_dias  total_cancelamentos\n",
      "           App            264.64                  622\n",
      "          Site            265.79                  628\n",
      "Agência Física            276.02                  653\n",
      "      Corretor            281.26                  617\n"
     ]
    }
   ],
   "source": [
    "query = \"\"\"\n",
    "WITH tempo_cancelamento AS (\n",
    "  SELECT \n",
    "    co.id_contrato,\n",
    "    co.canal_venda,\n",
    "    julianday(ca.data_cancelamento) - julianday(co.data_inicio) AS dias_ate_cancelar\n",
    "  FROM cancelamentos ca\n",
    "  JOIN contratos co ON ca.id_contrato = co.id_contrato\n",
    "  WHERE ca.data_cancelamento IS NOT NULL\n",
    ")\n",
    "SELECT \n",
    "  canal_venda,\n",
    "  ROUND(AVG(dias_ate_cancelar), 2) AS tempo_medio_dias,\n",
    "  COUNT(*) AS total_cancelamentos\n",
    "FROM tempo_cancelamento\n",
    "GROUP BY canal_venda\n",
    "ORDER BY tempo_medio_dias ASC;\n",
    "\"\"\"\n",
    "\n",
    "df_tempo_cancelamento_canal = pd.read_sql_query(query, conn)\n",
    "print(df_tempo_cancelamento_canal.to_string(index=False))"
   ]
  },
  {
   "cell_type": "markdown",
   "metadata": {},
   "source": [
    "16. Tempo médio até cancelamento por canal de venda"
   ]
  },
  {
   "cell_type": "code",
   "execution_count": 65,
   "metadata": {},
   "outputs": [
    {
     "name": "stdout",
     "output_type": "stream",
     "text": [
      "   canal_venda  tempo_medio_dias  total_cancelamentos\n",
      "           App            264.64                  622\n",
      "          Site            265.79                  628\n",
      "Agência Física            276.02                  653\n",
      "      Corretor            281.26                  617\n"
     ]
    }
   ],
   "source": [
    "query = \"\"\"\n",
    "WITH tempo_cancelamento AS (\n",
    "  SELECT \n",
    "    co.id_contrato,\n",
    "    co.canal_venda,\n",
    "    julianday(ca.data_cancelamento) - julianday(co.data_inicio) AS dias_ate_cancelar\n",
    "  FROM cancelamentos ca\n",
    "  JOIN contratos co ON ca.id_contrato = co.id_contrato\n",
    "  WHERE ca.data_cancelamento IS NOT NULL\n",
    ")\n",
    "SELECT \n",
    "  canal_venda,\n",
    "  ROUND(AVG(dias_ate_cancelar), 2) AS tempo_medio_dias,\n",
    "  COUNT(*) AS total_cancelamentos\n",
    "FROM tempo_cancelamento\n",
    "GROUP BY canal_venda\n",
    "ORDER BY tempo_medio_dias ASC;\n",
    "\"\"\"\n",
    "\n",
    "df_tempo_cancelamento_canal = pd.read_sql_query(query, conn)\n",
    "print(df_tempo_cancelamento_canal.to_string(index=False))\n"
   ]
  }
 ],
 "metadata": {
  "kernelspec": {
   "display_name": "base",
   "language": "python",
   "name": "python3"
  },
  "language_info": {
   "codemirror_mode": {
    "name": "ipython",
    "version": 3
   },
   "file_extension": ".py",
   "mimetype": "text/x-python",
   "name": "python",
   "nbconvert_exporter": "python",
   "pygments_lexer": "ipython3",
   "version": "3.12.7"
  }
 },
 "nbformat": 4,
 "nbformat_minor": 2
}
