{
 "cells": [
  {
   "cell_type": "code",
   "execution_count": 12,
   "metadata": {},
   "outputs": [],
   "source": [
    "import pandas as pd\n",
    "\n",
    "df_dict = pd.read_csv(r'C:\\Users\\Aluno\\Projeto\\final-project\\data\\P18_dicionario_dados.csv', encoding='utf-8', sep=',')\n",
    "df_cancel = pd.read_csv(r'C:\\Users\\Aluno\\Projeto\\final-project\\data\\P18_cancelamentos.csv', encoding='utf-8', sep=',')\n",
    "df_contratos = pd.read_csv(r'C:\\Users\\Aluno\\Projeto\\final-project\\data\\P18_contratos.csv', encoding='utf-8', sep=',')\n",
    "df_clientes= pd.read_csv(r'C:\\Users\\Aluno\\Projeto\\final-project\\data\\P18_clientes.csv', encoding='utf-8', sep=',')"
   ]
  },
  {
   "cell_type": "markdown",
   "metadata": {},
   "source": [
    "1. Quantos planos de seguro temos?"
   ]
  },
  {
   "cell_type": "code",
   "execution_count": 13,
   "metadata": {},
   "outputs": [
    {
     "data": {
      "text/plain": [
       "tipo_seguro\n",
       "Auto           2429\n",
       "Empresarial    2423\n",
       "Vida           2406\n",
       "Saúde          2390\n",
       "Residencial    2352\n",
       "Name: count, dtype: int64"
      ]
     },
     "execution_count": 13,
     "metadata": {},
     "output_type": "execute_result"
    }
   ],
   "source": [
    "df_contratos['tipo_seguro'].nunique()\n",
    "df_contratos['tipo_seguro'].value_counts()"
   ]
  },
  {
   "cell_type": "markdown",
   "metadata": {},
   "source": [
    "2. Quais planos possuem mais cancelamento?"
   ]
  },
  {
   "cell_type": "code",
   "execution_count": 15,
   "metadata": {},
   "outputs": [
    {
     "data": {
      "text/plain": [
       "tipo_seguro\n",
       "Saúde          528\n",
       "Empresarial    522\n",
       "Residencial    512\n",
       "Vida           489\n",
       "Auto           469\n",
       "Name: count, dtype: int64"
      ]
     },
     "execution_count": 15,
     "metadata": {},
     "output_type": "execute_result"
    }
   ],
   "source": [
    "# Unir Contratos com Cancelamentos\n",
    "df_cancelados = df_contratos.merge(df_cancel, on='id_contrato', how='inner')\n",
    "\n",
    "# Contar Cancelamentos por Tipo de Seguro\n",
    "df_cancelados['tipo_seguro'].value_counts()"
   ]
  },
  {
   "cell_type": "markdown",
   "metadata": {},
   "source": [
    "3. Qual o tempo de contrato médio dos clientes?"
   ]
  },
  {
   "cell_type": "code",
   "execution_count": 16,
   "metadata": {},
   "outputs": [
    {
     "data": {
      "text/plain": [
       "424.2079166666667"
      ]
     },
     "execution_count": 16,
     "metadata": {},
     "output_type": "execute_result"
    }
   ],
   "source": [
    "# Converter Datas\n",
    "df_contratos['data_inicio'] = pd.to_datetime(df_contratos['data_inicio'])\n",
    "df_contratos['data_fim'] = pd.to_datetime(df_contratos['data_fim'])\n",
    "\n",
    "# Criar Coluna com Duração em Dias\n",
    "df_contratos['duracao_contrato'] = (df_contratos['data_fim'] - df_contratos['data_inicio']).dt.days\n",
    "\n",
    "# Média Geral\n",
    "df_contratos['duracao_contrato'].mean()"
   ]
  },
  {
   "cell_type": "markdown",
   "metadata": {},
   "source": [
    "4. Qual o tempo médio dos contratos cancelados?"
   ]
  },
  {
   "cell_type": "code",
   "execution_count": 18,
   "metadata": {},
   "outputs": [
    {
     "data": {
      "text/plain": [
       "415.67857142857144"
      ]
     },
     "execution_count": 18,
     "metadata": {},
     "output_type": "execute_result"
    }
   ],
   "source": [
    "df_cancelados['data_inicio'] = pd.to_datetime(df_cancelados['data_inicio'])\n",
    "df_cancelados['data_fim'] = pd.to_datetime(df_cancelados['data_fim'])\n",
    "\n",
    "df_cancelados['duracao_contrato'] = (df_cancelados['data_fim'] - df_cancelados['data_inicio']).dt.days\n",
    "df_cancelados['duracao_contrato'].mean()"
   ]
  },
  {
   "cell_type": "markdown",
   "metadata": {},
   "source": [
    "9. Houve troca de plano antes do cancelamento?"
   ]
  },
  {
   "cell_type": "code",
   "execution_count": 19,
   "metadata": {},
   "outputs": [
    {
     "name": "stdout",
     "output_type": "stream",
     "text": [
      "Cancelaram após trocar de plano: 2184\n"
     ]
    }
   ],
   "source": [
    "# Ver Clientes com Mais de um Tipo de Seguro\n",
    "df_contratos.sort_values(by=['id_cliente', 'data_inicio'], inplace=True)\n",
    "df_troca = df_contratos.groupby('id_cliente')['tipo_seguro'].nunique()\n",
    "\n",
    "# Clientes que Já Tiveram Mais de um Tipo\n",
    "trocaram = df_troca[df_troca > 1].index\n",
    "\n",
    "# Quantos Desses Também Cancelaram\n",
    "cancelaram_e_trocaram = df_cancelados[df_cancelados['id_cliente'].isin(trocaram)]\n",
    "print(\"Cancelaram após trocar de plano:\", len(cancelaram_e_trocaram))"
   ]
  },
  {
   "cell_type": "markdown",
   "metadata": {},
   "source": [
    "10. Clientes que renovaram contrato ao menos uma vez cancelam menos?"
   ]
  },
  {
   "cell_type": "code",
   "execution_count": 20,
   "metadata": {},
   "outputs": [
    {
     "name": "stdout",
     "output_type": "stream",
     "text": [
      "Taxa de cancelamento com renovação: 0.20939464108501488\n",
      "Taxa sem renovação: 0.2106147127981189\n"
     ]
    }
   ],
   "source": [
    "# Clientes que Renovaram\n",
    "renovaram = df_contratos[df_contratos['renovado_automaticamente'] == True]\n",
    "nao_renovaram = df_contratos[df_contratos['renovado_automaticamente'] == False]\n",
    "\n",
    "# Com Cancelamento\n",
    "renovaram_cancelaram = renovaram[renovaram['id_contrato'].isin(df_cancel['id_contrato'])]\n",
    "nao_renovaram_cancelaram = nao_renovaram[nao_renovaram['id_contrato'].isin(df_cancel['id_contrato'])]\n",
    "\n",
    "# Taxas\n",
    "print(\"Taxa de cancelamento com renovação:\", len(renovaram_cancelaram) / len(renovaram))\n",
    "print(\"Taxa sem renovação:\", len(nao_renovaram_cancelaram) / len(nao_renovaram))"
   ]
  },
  {
   "cell_type": "markdown",
   "metadata": {},
   "source": [
    "11. Canal de venda influencia na fidelidade?"
   ]
  },
  {
   "cell_type": "code",
   "execution_count": 22,
   "metadata": {},
   "outputs": [
    {
     "data": {
      "text/plain": [
       "canal_venda\n",
       "Agência Física    0.211807\n",
       "App               0.211277\n",
       "Corretor          0.209721\n",
       "Site              0.207192\n",
       "Name: cancelado, dtype: float64"
      ]
     },
     "execution_count": 22,
     "metadata": {},
     "output_type": "execute_result"
    }
   ],
   "source": [
    "df_contratos['cancelado'] = df_contratos['id_contrato'].isin(df_cancel['id_contrato'])\n",
    "\n",
    "df_contratos.groupby('canal_venda')['cancelado'].mean().sort_values(ascending=False)"
   ]
  }
 ],
 "metadata": {
  "kernelspec": {
   "display_name": "base",
   "language": "python",
   "name": "python3"
  },
  "language_info": {
   "codemirror_mode": {
    "name": "ipython",
    "version": 3
   },
   "file_extension": ".py",
   "mimetype": "text/x-python",
   "name": "python",
   "nbconvert_exporter": "python",
   "pygments_lexer": "ipython3",
   "version": "3.12.7"
  }
 },
 "nbformat": 4,
 "nbformat_minor": 2
}
